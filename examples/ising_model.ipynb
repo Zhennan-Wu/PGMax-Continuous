{
  "cells": [
    {
      "cell_type": "code",
      "execution_count": null,
      "metadata": {
        "id": "c22Tmwt75jTj"
      },
      "outputs": [],
      "source": [
        "# Copyright 2022 Intrinsic Innovation LLC.\n",
        "# Copyright 2023 DeepMind Technologies Limited.\n",
        "#\n",
        "# Licensed under the Apache License, Version 2.0 (the \"License\");\n",
        "# you may not use this file except in compliance with the License.\n",
        "# You may obtain a copy of the License at\n",
        "#\n",
        "#     http://www.apache.org/licenses/LICENSE-2.0\n",
        "#\n",
        "# Unless required by applicable law or agreed to in writing, software\n",
        "# distributed under the License is distributed on an \"AS IS\" BASIS,\n",
        "# WITHOUT WARRANTIES OR CONDITIONS OF ANY KIND, either express or implied.\n",
        "# See the License for the specific language governing permissions and\n",
        "# limitations under the License."
      ]
    },
    {
      "cell_type": "code",
      "execution_count": null,
      "metadata": {
        "id": "uBbZ9rmwswjx"
      },
      "outputs": [],
      "source": [
        "# # Uncomment this block if running on colab.research.google.com\n",
        "# !pip install git+https://github.com/deepmind/PGMax.git"
      ]
    },
    {
      "cell_type": "code",
      "execution_count": null,
      "metadata": {
        "id": "LILn6smVeBWP"
      },
      "outputs": [],
      "source": [
        "import jax\n",
        "import jax.numpy as jnp\n",
        "import matplotlib.pyplot as plt\n",
        "import numpy as np\n",
        "\n",
        "############\n",
        "# Load PGMax\n",
        "from pgmax import fgraph, fgroup, infer, vgroup"
      ]
    },
    {
      "cell_type": "markdown",
      "metadata": {
        "id": "04DzBht7ppuG"
      },
      "source": [
        "### Construct variable grid, initialize factor graph, and add factors"
      ]
    },
    {
      "cell_type": "code",
      "execution_count": null,
      "metadata": {
        "id": "peLW-xjYeBur"
      },
      "outputs": [],
      "source": [
        "variables = vgroup.NDVarArray(num_states=2, shape=(50, 50))\n",
        "fg = fgraph.FactorGraph(variable_groups=variables)\n",
        "\n",
        "variables_for_factors = []\n",
        "for ii in range(50):\n",
        "  for jj in range(50):\n",
        "    kk = (ii + 1) % 50\n",
        "    ll = (jj + 1) % 50\n",
        "    variables_for_factors.append([variables[ii, jj], variables[kk, jj]])\n",
        "    variables_for_factors.append([variables[ii, jj], variables[ii, ll]])\n",
        "\n",
        "factor_group = fgroup.PairwiseFactorGroup(\n",
        "    variables_for_factors=variables_for_factors,\n",
        "    log_potential_matrix=0.8 * np.array([[1.0, -1.0], [-1.0, 1.0]]),\n",
        ")\n",
        "fg.add_factors(factor_group)"
      ]
    },
    {
      "cell_type": "markdown",
      "metadata": {
        "id": "Nq7Z-aAzprQi"
      },
      "source": [
        "### Run inference and visualize results"
      ]
    },
    {
      "cell_type": "code",
      "execution_count": null,
      "metadata": {
        "id": "2T2qLWXFpqwV"
      },
      "outputs": [],
      "source": [
        "bp = infer.BP(fg.bp_state, temperature=0)"
      ]
    },
    {
      "cell_type": "code",
      "execution_count": null,
      "metadata": {
        "id": "sS0-wqntpxYC"
      },
      "outputs": [],
      "source": [
        "bp_arrays = bp.init(\n",
        "    evidence_updates={variables: jax.device_put(np.random.gumbel(size=(50, 50, 2)))}\n",
        ")\n",
        "bp_arrays = bp.run_bp(bp_arrays, num_iters=3000)\n",
        "beliefs = bp.get_beliefs(bp_arrays)"
      ]
    },
    {
      "cell_type": "code",
      "execution_count": null,
      "metadata": {
        "id": "7YVT4TAopw5p"
      },
      "outputs": [],
      "source": [
        "map_states = infer.decode_map_states(beliefs)\n",
        "img = map_states[variables]\n",
        "fig, ax = plt.subplots(1, 1, figsize=(10, 10))\n",
        "ax.imshow(img)"
      ]
    },
    {
      "cell_type": "code",
      "execution_count": null,
      "metadata": {
        "id": "KFnpQgMJmsGW"
      },
      "outputs": [],
      "source": [
        "decoding_energy = infer.compute_energy(fg.bp_state, bp_arrays, map_states)[0]\n",
        "print(\"The energy of the decoding is\", decoding_energy)"
      ]
    },
    {
      "cell_type": "markdown",
      "metadata": {
        "id": "ZvFbOQXPp9vk"
      },
      "source": [
        "### Gradients and batching"
      ]
    },
    {
      "cell_type": "code",
      "execution_count": null,
      "metadata": {
        "id": "9Rfw81qPp2W6"
      },
      "outputs": [],
      "source": [
        "def loss(log_potentials_updates, evidence_updates):\n",
        "  bp_arrays = bp.init(\n",
        "    log_potentials_updates=log_potentials_updates, evidence_updates=evidence_updates\n",
        "  )\n",
        "  bp_arrays = bp.run_bp(bp_arrays, num_iters=3000)\n",
        "  beliefs = bp.get_beliefs(bp_arrays)\n",
        "  loss = -jnp.sum(beliefs[variables])\n",
        "  return loss\n",
        "\n",
        "\n",
        "batch_loss = jax.jit(jax.vmap(loss, in_axes=(None, {variables: 0}), out_axes=0))\n",
        "log_potentials_grads = jax.jit(jax.grad(loss, argnums=0))"
      ]
    },
    {
      "cell_type": "code",
      "execution_count": null,
      "metadata": {
        "id": "DKHFGIV2p_cG"
      },
      "outputs": [],
      "source": [
        "batch_loss(None, {variables: jax.device_put(np.random.gumbel(size=(10, 50, 50, 2)))})"
      ]
    },
    {
      "cell_type": "code",
      "execution_count": null,
      "metadata": {
        "id": "qN1q4_4oqBXv"
      },
      "outputs": [],
      "source": [
        "grads = log_potentials_grads(\n",
        "    {factor_group: jnp.eye(2)},\n",
        "    {variables: jax.device_put(np.random.gumbel(size=(50, 50, 2)))},\n",
        ")"
      ]
    },
    {
      "cell_type": "markdown",
      "metadata": {
        "id": "PzgDvIq9qIW5"
      },
      "source": [
        "### Message and evidence manipulation"
      ]
    },
    {
      "cell_type": "code",
      "execution_count": null,
      "metadata": {
        "id": "YRV-Pk8PqD29"
      },
      "outputs": [],
      "source": [
        "bp_state = bp.to_bp_state(bp_arrays)\n",
        "\n",
        "# Query evidence for variable (0, 0)\n",
        "bp_state.evidence[variables[0, 0]]"
      ]
    },
    {
      "cell_type": "code",
      "execution_count": null,
      "metadata": {
        "id": "Gvk7bV5_qO2H"
      },
      "outputs": [],
      "source": [
        "# Set evidence for variable (0, 0)\n",
        "bp_state.evidence[variables[0, 0]] = np.array([1.0, 1.0])\n",
        "bp_state.evidence[variables[0, 0]]"
      ]
    },
    {
      "cell_type": "code",
      "execution_count": null,
      "metadata": {
        "id": "ccA2OnvEqDar"
      },
      "outputs": [],
      "source": [
        "# Set evidence for all variables using an array\n",
        "evidence = np.random.randn(50, 50, 2)\n",
        "bp_state.evidence[variables] = evidence\n",
        "np.allclose(bp_state.evidence[variables[10, 10]], evidence[10, 10])"
      ]
    }
  ],
  "metadata": {},
  "nbformat": 4,
  "nbformat_minor": 0
}
