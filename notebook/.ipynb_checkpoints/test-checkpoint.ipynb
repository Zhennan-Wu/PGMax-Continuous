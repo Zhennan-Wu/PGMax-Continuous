{
 "cells": [
  {
   "cell_type": "code",
   "execution_count": 43,
   "id": "0c03d2d9-f35d-4543-a36e-76f175cdc095",
   "metadata": {},
   "outputs": [],
   "source": [
    "from pyRDDLGym import RDDLEnv\n",
    "from pyRDDLGym import ExampleManager\n",
    "from pyRDDLGym.Policies.Agents import RandomAgent"
   ]
  },
  {
   "cell_type": "code",
   "execution_count": 44,
   "id": "6b02c135-a376-4970-8f96-7f47d818d790",
   "metadata": {},
   "outputs": [
    {
     "name": "stdout",
     "output_type": "stream",
     "text": [
      "Available example environment(s):\n",
      "Reservoir continuous -> Continuous action version of management of the water level in interconnected reservoirs.\n",
      "Reservoir discrete -> Discrete version of management of the water level in interconnected reservoirs.\n",
      "Traffic -> BLX/QTM traffic model.\n",
      "PropDBN -> Simple propositional DBN.\n",
      "PowerGen continuous -> A continuous simple power generation problem loosely modeled on the problem of unit commitment.\n",
      "PowerGen discrete -> A simple power generation problem loosely modeled on the problem of unit commitment.\n",
      "HVAC -> Multi-zone and multi-heater HVAC control problem\n",
      "RaceCar -> A simple continuous MDP for the racecar problem.\n",
      "Wildfire -> A boolean version of the wildfire fighting domain.\n",
      "SupplyChainNet -> A supply chain network with factory and multiple warehouses.\n",
      "RecSim -> A problem of recommendation systems, with consumers and providers.\n",
      "MountainCar -> A simple continuous MDP for the classical mountain car control problem.\n",
      "UAV mixed -> Mixed action space version of multi-UAV problem where a group of UAVs have to reach goal positions in the 3d Space.\n",
      "UAV continuous -> Continuous action space version of multi-UAV problem where a group of UAVs have to reach goal positions in the 3d Space.\n",
      "UAV discrete -> Discrete action space version of multi-UAV problem where a group of UAVs have to reach goal positions in the 3d Space.\n",
      "MarsRover -> Multi Rover Navigation, where a group of agent needs to harvest mineral.\n",
      "Elevators -> The Elevator domain models evening rush hours when people from different floors in a building want to go down to the bottom floor using elevators.\n",
      "CartPole continuous -> A simple continuous state-action MDP for the classical cart-pole system by Rich Sutton, with actions that describe the continuous force applied to the cart.\n",
      "CartPole discrete -> A simple continuous state MDP for the classical cart-pole system by Rich Sutton, with discrete actions that apply a constant force on either the left or right side of the cart.\n",
      "NewLanguage -> Example with new language features.\n",
      "NewtonZero -> Example with Newton root-finding method.\n",
      "SupplyChain -> A supply chain with factory and multiple warehouses.\n"
     ]
    }
   ],
   "source": [
    "ExampleManager.ListExamples()"
   ]
  },
  {
   "cell_type": "code",
   "execution_count": 45,
   "id": "497b2a1e-67c1-4df4-995a-1aa2e35716b9",
   "metadata": {},
   "outputs": [
    {
     "data": {
      "text/plain": [
       "pyRDDLGym.Visualizer.MarsRoverViz.MarsRoverVisualizer"
      ]
     },
     "execution_count": 45,
     "metadata": {},
     "output_type": "execute_result"
    }
   ],
   "source": [
    "# get the environment info\n",
    "EnvInfo = ExampleManager.GetEnvInfo('MarsRover')\n",
    "# access to the domain file\n",
    "EnvInfo.get_domain()\n",
    "#list all available instances for that domain\n",
    "EnvInfo.list_instances()\n",
    "# access to instance 0  \n",
    "EnvInfo.get_instance(0)\n",
    "# obtain the dedicated visualizer object of the domain if exists\n",
    "EnvInfo.get_visualizer()"
   ]
  },
  {
   "cell_type": "code",
   "execution_count": 46,
   "id": "c2bb9340-9281-4236-a26a-7aac357e457d",
   "metadata": {},
   "outputs": [],
   "source": [
    "# set up the environment class, choose instance 0 because every example has at least one example instance\n",
    "myEnv = RDDLEnv.RDDLEnv(domain=EnvInfo.get_domain(), instance=EnvInfo.get_instance(0))\n",
    "# set up the environment visualizer\n",
    "myEnv.set_visualizer(EnvInfo.get_visualizer())"
   ]
  },
  {
   "cell_type": "code",
   "execution_count": 47,
   "id": "8ecd0dd7-92e1-4ef0-83d7-2bc4aea45a18",
   "metadata": {},
   "outputs": [],
   "source": [
    "agent = RandomAgent(action_space=myEnv.action_space, num_actions=myEnv.numConcurrentActions)"
   ]
  },
  {
   "cell_type": "code",
   "execution_count": 48,
   "id": "c1724b9d-e25d-412a-ad1e-c1669f59467e",
   "metadata": {},
   "outputs": [],
   "source": [
    "# total_reward = 0\n",
    "# state = myEnv.reset()\n",
    "# for step in range(myEnv.horizon):\n",
    "#     myEnv.render()\n",
    "#     action = agent.sample_action()\n",
    "#     next_state, reward, done, info = myEnv.step(action)\n",
    "#     total_reward += reward\n",
    "#     print()\n",
    "#     print('step       = {}'.format(step))\n",
    "#     print('state      = {}'.format(state))\n",
    "#     print('action     = {}'.format(action))\n",
    "#     print('next state = {}'.format(next_state))\n",
    "#     print('reward     = {}'.format(reward))\n",
    "#     state = next_state\n",
    "#     if done:\n",
    "#         break\n",
    "# print(\"episode ended with reward {}\".format(total_reward))\n",
    "# myEnv.close()"
   ]
  },
  {
   "cell_type": "code",
   "execution_count": 13,
   "id": "2288a1b9-ec9e-4d53-bc3e-86297abb58e9",
   "metadata": {},
   "outputs": [
    {
     "name": "stdout",
     "output_type": "stream",
     "text": [
      "episode ended with reward -19975.0\n"
     ]
    }
   ],
   "source": [
    "from pyRDDLGym import RDDLEnv\n",
    "from pyRDDLGym import ExampleManager\n",
    "from pyRDDLGym.Policies.Agents import RandomAgent\n",
    "\n",
    "ENV = 'Wildfire'\n",
    "\n",
    "# get the environment infos\n",
    "EnvInfo = ExampleManager.GetEnvInfo(ENV)\n",
    "\n",
    "# set up the environment class, choose instance 0 because every example has at least one example instance\n",
    "myEnv = RDDLEnv.RDDLEnv(domain=EnvInfo.get_domain(), instance=EnvInfo.get_instance(0))\n",
    "# set up the environment visualizer\n",
    "myEnv.set_visualizer(EnvInfo.get_visualizer())\n",
    "# set up an example aget\n",
    "agent = RandomAgent(action_space=myEnv.action_space, num_actions=myEnv.numConcurrentActions)\n",
    "\n",
    "total_reward = 0\n",
    "state = myEnv.reset()\n",
    "\n",
    "for step in range(myEnv.horizon):\n",
    "    myEnv.render()\n",
    "    action = agent.sample_action()\n",
    "    next_state, reward, done, info = myEnv.step(action)\n",
    "    total_reward += reward\n",
    "    state = next_state\n",
    "    if done:\n",
    "        break\n",
    "\n",
    "print(\"episode ended with reward {}\".format(total_reward))\n",
    "myEnv.close()\n"
   ]
  },
  {
   "cell_type": "code",
   "execution_count": 49,
   "id": "3554e642-d65b-48f8-9089-038733373347",
   "metadata": {},
   "outputs": [],
   "source": [
    "from pyRDDLGym.Visualizer.visualize_dbn import RDDL2Graph\n",
    "\n",
    "r2g = RDDL2Graph(\n",
    "    domain='Wildfire',\n",
    "    instance=0,\n",
    "    directed=True,\n",
    "    strict_grouping=True,\n",
    ")\n"
   ]
  },
  {
   "cell_type": "code",
   "execution_count": 50,
   "id": "775a1db9-5303-4421-b180-573cef32837b",
   "metadata": {},
   "outputs": [],
   "source": [
    "r2g.save_dbn(file_name='Wildfire')\n"
   ]
  },
  {
   "cell_type": "code",
   "execution_count": 9,
   "id": "8d18a8ab-a3fc-4215-9142-ecd80e3a4fe6",
   "metadata": {},
   "outputs": [
    {
     "ename": "AttributeError",
     "evalue": "'RDDLLevelAnalysisWXADD' object has no attribute '_model'",
     "output_type": "error",
     "traceback": [
      "\u001b[0;31m---------------------------------------------------------------------------\u001b[0m",
      "\u001b[0;31mAttributeError\u001b[0m                            Traceback (most recent call last)",
      "Cell \u001b[0;32mIn[9], line 34\u001b[0m\n\u001b[1;32m     31\u001b[0m self_model \u001b[38;5;241m=\u001b[39m RDDLModelWXADD(model)\n\u001b[1;32m     32\u001b[0m \u001b[38;5;66;03m# self_model.compile()\u001b[39;00m\n\u001b[0;32m---> 34\u001b[0m XADD_model \u001b[38;5;241m=\u001b[39m \u001b[43mRDDLSimulatorWXADD\u001b[49m\u001b[43m(\u001b[49m\u001b[43mself_model\u001b[49m\u001b[43m)\u001b[49m\n\u001b[1;32m     35\u001b[0m self_cpfs: Dict[\u001b[38;5;28mstr\u001b[39m, Union[\u001b[38;5;28mint\u001b[39m, List[\u001b[38;5;28mint\u001b[39m]]] \u001b[38;5;241m=\u001b[39m self_model\u001b[38;5;241m.\u001b[39mcpfs\n",
      "File \u001b[0;32m~/miniconda3/envs/rddlgym/lib/python3.10/site-packages/pyRDDLGym/XADD/RDDLSimulatorXADD.py:22\u001b[0m, in \u001b[0;36mRDDLSimulatorWXADD.__init__\u001b[0;34m(self, model, rng, compute_levels, max_bound)\u001b[0m\n\u001b[1;32m     19\u001b[0m \u001b[38;5;28mself\u001b[39m\u001b[38;5;241m.\u001b[39m_rng \u001b[38;5;241m=\u001b[39m rng\n\u001b[1;32m     21\u001b[0m \u001b[38;5;66;03m# perform a dependency analysis and topological sort to compute levels\u001b[39;00m\n\u001b[0;32m---> 22\u001b[0m dep_analysis \u001b[38;5;241m=\u001b[39m \u001b[43mRDDLLevelAnalysisWXADD\u001b[49m\u001b[43m(\u001b[49m\u001b[38;5;28;43mself\u001b[39;49m\u001b[38;5;241;43m.\u001b[39;49m\u001b[43m_model\u001b[49m\u001b[43m)\u001b[49m\n\u001b[1;32m     23\u001b[0m \u001b[38;5;28mself\u001b[39m\u001b[38;5;241m.\u001b[39mcpforder \u001b[38;5;241m=\u001b[39m dep_analysis\u001b[38;5;241m.\u001b[39mcompute_levels()\n\u001b[1;32m     24\u001b[0m \u001b[38;5;28mself\u001b[39m\u001b[38;5;241m.\u001b[39m_order_cpfs \u001b[38;5;241m=\u001b[39m \u001b[38;5;28mlist\u001b[39m(\u001b[38;5;28msorted\u001b[39m(\u001b[38;5;28mself\u001b[39m\u001b[38;5;241m.\u001b[39mcpforder\u001b[38;5;241m.\u001b[39mkeys()))\n",
      "File \u001b[0;32m~/miniconda3/envs/rddlgym/lib/python3.10/site-packages/pyRDDLGym/XADD/RDDLLevelAnalysisXADD.py:15\u001b[0m, in \u001b[0;36mRDDLLevelAnalysisWXADD.__init__\u001b[0;34m(self, model, disallow_state_synchrony)\u001b[0m\n\u001b[1;32m     12\u001b[0m \u001b[38;5;28;01mdef\u001b[39;00m \u001b[38;5;21m__init__\u001b[39m(\u001b[38;5;28mself\u001b[39m, model: PlanningModel, \n\u001b[1;32m     13\u001b[0m              disallow_state_synchrony: \u001b[38;5;28mbool\u001b[39m \u001b[38;5;241m=\u001b[39m \u001b[38;5;28;01mFalse\u001b[39;00m) \u001b[38;5;241m-\u001b[39m\u001b[38;5;241m>\u001b[39m \u001b[38;5;28;01mNone\u001b[39;00m:\n\u001b[1;32m     14\u001b[0m     \u001b[38;5;28msuper\u001b[39m()\u001b[38;5;241m.\u001b[39m\u001b[38;5;21m__init__\u001b[39m(model, disallow_state_synchrony)\n\u001b[0;32m---> 15\u001b[0m     \u001b[38;5;28mself\u001b[39m\u001b[38;5;241m.\u001b[39m_model \u001b[38;5;241m=\u001b[39m cast(RDDLModelWXADD, \u001b[38;5;28;43mself\u001b[39;49m\u001b[38;5;241;43m.\u001b[39;49m\u001b[43m_model\u001b[49m)\n\u001b[1;32m     16\u001b[0m     \u001b[38;5;28mself\u001b[39m\u001b[38;5;241m.\u001b[39m_context: XADD \u001b[38;5;241m=\u001b[39m \u001b[38;5;28mself\u001b[39m\u001b[38;5;241m.\u001b[39m_model\u001b[38;5;241m.\u001b[39m_context\n",
      "\u001b[0;31mAttributeError\u001b[0m: 'RDDLLevelAnalysisWXADD' object has no attribute '_model'"
     ]
    }
   ],
   "source": [
    "from typing import Optional, Tuple, Dict, Union, List, Set\n",
    "\n",
    "from pyRDDLGym.XADD.RDDLModelXADD import RDDLModelWXADD\n",
    "from pyRDDLGym.XADD.RDDLSimulatorXADD import RDDLSimulatorWXADD\n",
    "from pyRDDLGym.Core.Parser.RDDLReader import RDDLReader\n",
    "from pyRDDLGym.Core.Parser.parser import RDDLParser\n",
    "from pyRDDLGym.Examples.ExampleManager import ExampleManager\n",
    "from pyRDDLGym.Core.Grounder.RDDLGrounder import RDDLGrounder\n",
    "from pyRDDLGym.Core.Compiler.RDDLLiftedModel import RDDLLiftedModel\n",
    "\n",
    "domain = 'Wildfire'\n",
    "instance = str(0)\n",
    "env_info = ExampleManager.GetEnvInfo(domain)\n",
    "domain = env_info.get_domain()\n",
    "instance = env_info.get_instance(instance)\n",
    "\n",
    "# Read and parse domain and instance\n",
    "reader = RDDLReader(domain, instance)\n",
    "domain = reader.rddltxt\n",
    "parser = RDDLParser(None, False)\n",
    "parser.build()\n",
    "\n",
    "# Parse RDDL file\n",
    "rddl_ast = parser.parse(domain)\n",
    "lifted_model = RDDLLiftedModel(rddl_ast)\n",
    "\n",
    "# Ground domain\n",
    "grounder = RDDLGrounder(rddl_ast)\n",
    "model = grounder.Ground()\n",
    "\n",
    "self_model = RDDLModelWXADD(model)\n",
    "self_model.compile()\n",
    "\n",
    "XADD_model = RDDLSimulatorWXADD(self_model)\n",
    "self_cpfs: Dict[str, Union[int, List[int]]] = self_model.cpfs"
   ]
  },
  {
   "cell_type": "code",
   "execution_count": 17,
   "id": "80b2b5e5-62c6-41b6-a1ac-7a3538383d9c",
   "metadata": {},
   "outputs": [
    {
     "data": {
      "text/plain": [
       "{\"burning___x1__y1'\": 244,\n",
       " \"burning___x1__y2'\": 769,\n",
       " \"burning___x1__y3'\": 859,\n",
       " \"burning___x2__y1'\": 1387,\n",
       " \"burning___x2__y2'\": 2861,\n",
       " \"burning___x2__y3'\": 3320,\n",
       " \"burning___x3__y1'\": 3529,\n",
       " \"burning___x3__y2'\": 3972,\n",
       " \"burning___x3__y3'\": 4176,\n",
       " \"out-of-fuel___x1__y1'\": 4185,\n",
       " \"out-of-fuel___x1__y2'\": 4196,\n",
       " \"out-of-fuel___x1__y3'\": 4207,\n",
       " \"out-of-fuel___x2__y1'\": 4218,\n",
       " \"out-of-fuel___x2__y2'\": 4221,\n",
       " \"out-of-fuel___x2__y3'\": 4228,\n",
       " \"out-of-fuel___x3__y1'\": 4235,\n",
       " \"out-of-fuel___x3__y2'\": 4250,\n",
       " \"out-of-fuel___x3__y3'\": 4261}"
      ]
     },
     "execution_count": 17,
     "metadata": {},
     "output_type": "execute_result"
    }
   ],
   "source": [
    "self_cpfs"
   ]
  },
  {
   "cell_type": "code",
   "execution_count": 18,
   "id": "c79725ac-1ad1-4664-90d1-fdf96a42f8ca",
   "metadata": {},
   "outputs": [],
   "source": [
    "self_cpfs.update({'reward': self_model.reward})\n",
    "self_cpfs.update({'terminals': self_model.terminals})"
   ]
  },
  {
   "cell_type": "code",
   "execution_count": 19,
   "id": "6f967c58-7edc-44b2-ad45-ba5493da5bb1",
   "metadata": {},
   "outputs": [
    {
     "data": {
      "text/plain": [
       "{\"burning___x1__y1'\": 244,\n",
       " \"burning___x1__y2'\": 769,\n",
       " \"burning___x1__y3'\": 859,\n",
       " \"burning___x2__y1'\": 1387,\n",
       " \"burning___x2__y2'\": 2861,\n",
       " \"burning___x2__y3'\": 3320,\n",
       " \"burning___x3__y1'\": 3529,\n",
       " \"burning___x3__y2'\": 3972,\n",
       " \"burning___x3__y3'\": 4176,\n",
       " \"out-of-fuel___x1__y1'\": 4185,\n",
       " \"out-of-fuel___x1__y2'\": 4196,\n",
       " \"out-of-fuel___x1__y3'\": 4207,\n",
       " \"out-of-fuel___x2__y1'\": 4218,\n",
       " \"out-of-fuel___x2__y2'\": 4221,\n",
       " \"out-of-fuel___x2__y3'\": 4228,\n",
       " \"out-of-fuel___x3__y1'\": 4235,\n",
       " \"out-of-fuel___x3__y2'\": 4250,\n",
       " \"out-of-fuel___x3__y3'\": 4261,\n",
       " 'reward': 9119,\n",
       " 'terminals': []}"
      ]
     },
     "execution_count": 19,
     "metadata": {},
     "output_type": "execute_result"
    }
   ],
   "source": [
    "self_cpfs"
   ]
  },
  {
   "cell_type": "code",
   "execution_count": 6,
   "id": "0cd17b98-4d0c-473d-9d5d-c5c0b9afcead",
   "metadata": {},
   "outputs": [
    {
     "name": "stdout",
     "output_type": "stream",
     "text": [
      "burning___x1__y1' {'burning___x1__y1', 'burning___x1__y2', 'burning___x2__y2', 'out-of-fuel___x1__y1', 'put-out___x1__y1', 'burning___x2__y1'}\n",
      "<class 'set'>\n",
      "burning___x1__y2' {'burning___x1__y1', 'burning___x1__y2', 'burning___x2__y3', 'burning___x2__y2', 'out-of-fuel___x1__y2', 'put-out___x1__y2', 'burning___x2__y1', 'burning___x1__y3'}\n",
      "<class 'set'>\n",
      "burning___x1__y3' {'put-out___x1__y3', 'out-of-fuel___x1__y3', 'burning___x2__y3', 'burning___x2__y2', 'burning___x1__y3'}\n",
      "<class 'set'>\n",
      "burning___x2__y1' {'burning___x1__y1', 'put-out___x2__y1', 'burning___x1__y2', 'out-of-fuel___x2__y1', 'burning___x2__y2', 'burning___x3__y1', 'burning___x3__y2', 'burning___x2__y1'}\n",
      "<class 'set'>\n",
      "burning___x2__y2' {'out-of-fuel___x2__y2', 'burning___x1__y1', 'put-out___x2__y2', 'burning___x3__y3', 'burning___x1__y2', 'burning___x2__y3', 'burning___x2__y2', 'burning___x3__y1', 'burning___x3__y2', 'burning___x2__y1', 'burning___x1__y3'}\n",
      "<class 'set'>\n",
      "burning___x2__y3' {'out-of-fuel___x2__y3', 'burning___x3__y3', 'burning___x1__y2', 'burning___x2__y3', 'burning___x2__y2', 'put-out___x2__y3', 'burning___x3__y2', 'burning___x1__y3'}\n",
      "<class 'set'>\n",
      "burning___x3__y1' {'out-of-fuel___x3__y1', 'burning___x2__y2', 'burning___x3__y1', 'put-out___x3__y1', 'burning___x3__y2', 'burning___x2__y1'}\n",
      "<class 'set'>\n",
      "burning___x3__y2' {'burning___x3__y3', 'burning___x2__y3', 'put-out___x3__y2', 'burning___x2__y2', 'burning___x3__y1', 'out-of-fuel___x3__y2', 'burning___x3__y2', 'burning___x2__y1'}\n",
      "<class 'set'>\n",
      "burning___x3__y3' {'burning___x3__y3', 'burning___x2__y3', 'burning___x2__y2', 'burning___x3__y2', 'out-of-fuel___x3__y3', 'put-out___x3__y3'}\n",
      "<class 'set'>\n",
      "out-of-fuel___x1__y1' {'burning___x1__y1', 'cut-out___x1__y1', 'out-of-fuel___x1__y1'}\n",
      "<class 'set'>\n",
      "out-of-fuel___x1__y2' {'out-of-fuel___x1__y2', 'cut-out___x1__y2', 'burning___x1__y2'}\n",
      "<class 'set'>\n",
      "out-of-fuel___x1__y3' {'cut-out___x1__y3', 'out-of-fuel___x1__y3', 'burning___x1__y3'}\n",
      "<class 'set'>\n",
      "out-of-fuel___x2__y1' {'out-of-fuel___x2__y1', 'cut-out___x2__y1', 'burning___x2__y1'}\n",
      "<class 'set'>\n",
      "out-of-fuel___x2__y2' {'out-of-fuel___x2__y2', 'burning___x2__y2'}\n",
      "<class 'set'>\n",
      "out-of-fuel___x2__y3' {'burning___x2__y3', 'out-of-fuel___x2__y3'}\n",
      "<class 'set'>\n",
      "out-of-fuel___x3__y1' {'out-of-fuel___x3__y1', 'burning___x3__y1'}\n",
      "<class 'set'>\n",
      "out-of-fuel___x3__y2' {'out-of-fuel___x3__y2', 'burning___x3__y2', 'cut-out___x3__y2'}\n",
      "<class 'set'>\n",
      "out-of-fuel___x3__y3' {'cut-out___x3__y3', 'burning___x3__y3', 'out-of-fuel___x3__y3'}\n",
      "<class 'set'>\n",
      "reward {'put-out___x2__y2', 'burning___x2__y3', 'burning___x2__y2', 'put-out___x2__y3', 'cut-out___x3__y1', 'cut-out___x2__y1', 'burning___x3__y1', 'put-out___x1__y2', 'put-out___x3__y1', 'burning___x2__y1', 'put-out___x2__y1', 'put-out___x1__y3', 'cut-out___x2__y3', 'burning___x1__y2', 'put-out___x3__y2', 'cut-out___x3__y3', 'burning___x3__y2', 'cut-out___x3__y2', 'burning___x1__y3', 'cut-out___x2__y2', 'out-of-fuel___x2__y3', 'out-of-fuel___x3__y1', 'burning___x3__y3', 'put-out___x1__y1', 'cut-out___x1__y1', 'put-out___x3__y3', 'out-of-fuel___x2__y2', 'burning___x1__y1', 'cut-out___x1__y3', 'cut-out___x1__y2'}\n",
      "<class 'set'>\n"
     ]
    }
   ],
   "source": [
    "for cpf, node_id in self_model.cpfs.items():\n",
    "    if not node_id or cpf == 'terminals':\n",
    "        continue\n",
    "    parents = self_model.collect_vars(node_id)\n",
    "    print(cpf, parents)\n",
    "    print(type(parents))"
   ]
  },
  {
   "cell_type": "code",
   "execution_count": 30,
   "id": "730be27b-cc45-4351-aa7c-107b94aa9962",
   "metadata": {},
   "outputs": [],
   "source": [
    "from pyRDDLGym.Examples.ExampleManager import ExampleManager\n",
    "from pyRDDLGym.Core.Grounder.RDDLGrounder import RDDLGrounder\n",
    "from pyRDDLGym.XADD.RDDLModelXADD import RDDLModelWXADD\n",
    "from pyRDDLGym.Core.Parser.RDDLReader import RDDLReader\n",
    "from pyRDDLGym.Core.Parser.parser import RDDLParser\n",
    "\n",
    "# Read the domain and instance files\n",
    "domain, instance = 'Wildfire', '0'\n",
    "env_info = ExampleManager.GetEnvInfo(domain)\n",
    "domain = env_info.get_domain()\n",
    "instance = env_info.get_instance(instance)\n",
    "\n",
    "# Read and parse domain and instance\n",
    "reader = RDDLReader(domain, instance)\n",
    "domain = reader.rddltxt\n",
    "parser = RDDLParser(None, False)\n",
    "parser.build()\n",
    "\n",
    "# Parse RDDL file\n",
    "rddl_ast = parser.parse(domain)\n",
    "\n",
    "# Ground domain\n",
    "grounder = RDDLGrounder(rddl_ast)\n",
    "model = grounder.Ground()\n"
   ]
  },
  {
   "cell_type": "code",
   "execution_count": 31,
   "id": "e700ae2a-ff91-4b6d-9ca7-64e7d9161732",
   "metadata": {},
   "outputs": [],
   "source": [
    "# XADD compilation\n",
    "model_xadd = RDDLModelWXADD(model)\n",
    "model_xadd.compile()\n"
   ]
  },
  {
   "cell_type": "code",
   "execution_count": 42,
   "id": "7295e3ab-3d6e-4894-ae59-95280df8a21b",
   "metadata": {},
   "outputs": [
    {
     "name": "stdout",
     "output_type": "stream",
     "text": [
      "( [put_out___x1__y1] \t(dec, id): 1, 244\n",
      "\t( [False] ) node_id: 3 \n",
      "\t( [out_of_fuel___x1__y1] \t(dec, id): 2, 243\n",
      "\t\t( [burning___x1__y1] \t(dec, id): 3, 20\n",
      "\t\t\t( [True] ) node_id: 2 \n",
      "\t\t\t( [False] ) node_id: 3 \n",
      "\t\t)  \n",
      "\t\t( [burning___x1__y1] \t(dec, id): 3, 240\n",
      "\t\t\t( [True] ) node_id: 2 \n",
      "\t\t\t( [burning___x1__y2] \t(dec, id): 5, 208\n",
      "\t\t\t\t( [burning___x2__y1] \t(dec, id): 7, 207\n",
      "\t\t\t\t\t( [burning___x2__y2] \t(dec, id): 8, 206\n",
      "\t\t\t\t\t\t( [#_UNIFORM_0 - 0.182425523806356 <= 0] \t(dec, id): 10017, 205\n",
      "\t\t\t\t\t\t\t( [True] ) node_id: 2 \n",
      "\t\t\t\t\t\t\t( [False] ) node_id: 3 \n",
      "\t\t\t\t\t\t)  \n",
      "\t\t\t\t\t\t( [#_UNIFORM_0 - 0.0758581800212435 <= 0] \t(dec, id): 10016, 202\n",
      "\t\t\t\t\t\t\t( [True] ) node_id: 2 \n",
      "\t\t\t\t\t\t\t( [False] ) node_id: 3 \n",
      "\t\t\t\t\t\t)  \n",
      "\t\t\t\t\t)  \n",
      "\t\t\t\t\t( [burning___x2__y2] \t(dec, id): 8, 203\n",
      "\t\t\t\t\t\t( [#_UNIFORM_0 - 0.0758581800212435 <= 0] \t(dec, id): 10016, 202\n",
      "\t\t\t\t\t\t\t( [True] ) node_id: 2 \n",
      "\t\t\t\t\t\t\t( [False] ) node_id: 3 \n",
      "\t\t\t\t\t\t)  \n",
      "\t\t\t\t\t\t( [#_UNIFORM_0 - 0.0293122307513563 <= 0] \t(dec, id): 10015, 200\n",
      "\t\t\t\t\t\t\t( [True] ) node_id: 2 \n",
      "\t\t\t\t\t\t\t( [False] ) node_id: 3 \n",
      "\t\t\t\t\t\t)  \n",
      "\t\t\t\t\t)  \n",
      "\t\t\t\t)  \n",
      "\t\t\t\t( [burning___x2__y1] \t(dec, id): 7, 204\n",
      "\t\t\t\t\t( [burning___x2__y2] \t(dec, id): 8, 203\n",
      "\t\t\t\t\t\t( [#_UNIFORM_0 - 0.0758581800212435 <= 0] \t(dec, id): 10016, 202\n",
      "\t\t\t\t\t\t\t( [True] ) node_id: 2 \n",
      "\t\t\t\t\t\t\t( [False] ) node_id: 3 \n",
      "\t\t\t\t\t\t)  \n",
      "\t\t\t\t\t\t( [#_UNIFORM_0 - 0.0293122307513563 <= 0] \t(dec, id): 10015, 200\n",
      "\t\t\t\t\t\t\t( [True] ) node_id: 2 \n",
      "\t\t\t\t\t\t\t( [False] ) node_id: 3 \n",
      "\t\t\t\t\t\t)  \n",
      "\t\t\t\t\t)  \n",
      "\t\t\t\t\t( [burning___x2__y2] \t(dec, id): 8, 201\n",
      "\t\t\t\t\t\t( [#_UNIFORM_0 - 0.0293122307513563 <= 0] \t(dec, id): 10015, 200\n",
      "\t\t\t\t\t\t\t( [True] ) node_id: 2 \n",
      "\t\t\t\t\t\t\t( [False] ) node_id: 3 \n",
      "\t\t\t\t\t\t)  \n",
      "\t\t\t\t\t\t( [#_UNIFORM_0 - 0.0109869426305932 <= 0] \t(dec, id): 10014, 199\n",
      "\t\t\t\t\t\t\t( [True] ) node_id: 2 \n",
      "\t\t\t\t\t\t\t( [False] ) node_id: 3 \n",
      "\t\t\t\t\t\t)  \n",
      "\t\t\t\t\t)  \n",
      "\t\t\t\t)  \n",
      "\t\t\t)  \n",
      "\t\t)  \n",
      "\t)  \n",
      ") \n"
     ]
    },
    {
     "data": {
      "text/plain": [
       "244"
      ]
     },
     "execution_count": 42,
     "metadata": {},
     "output_type": "execute_result"
    }
   ],
   "source": [
    "cpf_burning_x1_y1 = model_xadd.cpfs[\"burning___x1__y1'\"]\n",
    "model_xadd.print(cpf_burning_x1_y1)\n",
    "model_xadd._context.substitute(cpf_burning_x1_y1, {})"
   ]
  },
  {
   "cell_type": "code",
   "execution_count": 5,
   "id": "9dff662b-5887-499d-9973-0875a4a78ba7",
   "metadata": {},
   "outputs": [
    {
     "data": {
      "text/plain": [
       "dict_keys([\"burning___x1__y1'\", \"burning___x1__y2'\", \"burning___x1__y3'\", \"burning___x2__y1'\", \"burning___x2__y2'\", \"burning___x2__y3'\", \"burning___x3__y1'\", \"burning___x3__y2'\", \"burning___x3__y3'\", \"out-of-fuel___x1__y1'\", \"out-of-fuel___x1__y2'\", \"out-of-fuel___x1__y3'\", \"out-of-fuel___x2__y1'\", \"out-of-fuel___x2__y2'\", \"out-of-fuel___x2__y3'\", \"out-of-fuel___x3__y1'\", \"out-of-fuel___x3__y2'\", \"out-of-fuel___x3__y3'\", 'reward'])"
      ]
     },
     "execution_count": 5,
     "metadata": {},
     "output_type": "execute_result"
    }
   ],
   "source": [
    "model_xadd.cpfs.update({'reward': model_xadd.reward})\n",
    "\n",
    "model_xadd.cpfs.keys()"
   ]
  },
  {
   "cell_type": "code",
   "execution_count": 6,
   "id": "6f2be56f-2542-49a5-9bbf-59de8d03bd14",
   "metadata": {},
   "outputs": [],
   "source": [
    "cpf_reward = model_xadd.cpfs[\"reward\"]"
   ]
  },
  {
   "cell_type": "code",
   "execution_count": 7,
   "id": "4fdb38eb-2d64-4fa8-954b-9359697717f1",
   "metadata": {},
   "outputs": [
    {
     "data": {
      "text/plain": [
       "9119"
      ]
     },
     "execution_count": 7,
     "metadata": {},
     "output_type": "execute_result"
    }
   ],
   "source": [
    "cpf_reward"
   ]
  },
  {
   "cell_type": "code",
   "execution_count": null,
   "id": "085b3988-772e-403f-924b-5159c72dfe97",
   "metadata": {},
   "outputs": [],
   "source": [
    "model_xadd.print(model_xadd.reward)"
   ]
  },
  {
   "cell_type": "code",
   "execution_count": null,
   "id": "56186c81-9abd-4cb2-af27-7ad862ab1d57",
   "metadata": {},
   "outputs": [],
   "source": []
  }
 ],
 "metadata": {
  "kernelspec": {
   "display_name": "Python [conda env:rddlgym]",
   "language": "python",
   "name": "conda-env-rddlgym-py"
  },
  "language_info": {
   "codemirror_mode": {
    "name": "ipython",
    "version": 3
   },
   "file_extension": ".py",
   "mimetype": "text/x-python",
   "name": "python",
   "nbconvert_exporter": "python",
   "pygments_lexer": "ipython3",
   "version": "3.10.10"
  }
 },
 "nbformat": 4,
 "nbformat_minor": 5
}
